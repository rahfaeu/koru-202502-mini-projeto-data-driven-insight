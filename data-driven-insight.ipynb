{
  "nbformat": 4,
  "nbformat_minor": 0,
  "metadata": {
    "colab": {
      "provenance": [],
      "authorship_tag": "ABX9TyPPkT4jrKcqrsNQV5G8YcqF",
      "include_colab_link": true
    },
    "kernelspec": {
      "name": "python3",
      "display_name": "Python 3"
    },
    "language_info": {
      "name": "python"
    }
  },
  "cells": [
    {
      "cell_type": "markdown",
      "metadata": {
        "id": "view-in-github",
        "colab_type": "text"
      },
      "source": [
        "<a href=\"https://colab.research.google.com/github/rahfaeu/koru-202502-mini-projeto-data-driven-insight/blob/main/data-driven-insight.ipynb\" target=\"_parent\"><img src=\"https://colab.research.google.com/assets/colab-badge.svg\" alt=\"Open In Colab\"/></a>"
      ]
    },
    {
      "cell_type": "markdown",
      "source": [
        "# Programa Desenvolve\n",
        "## Koru e Grupo Boticário\n",
        "\n",
        "**Trilha**: Engenharia de Dados\n",
        "\n",
        "### Mini Projeto Módulo 01 - Data-Driven Insight"
      ],
      "metadata": {
        "id": "_Xk13mbQzhS8"
      }
    },
    {
      "cell_type": "code",
      "source": [],
      "metadata": {
        "colab": {
          "base_uri": "https://localhost:8080/"
        },
        "id": "HZSWdh_U1o1b",
        "outputId": "b7cfbb53-b764-4e1f-e767-0610507053e0"
      },
      "execution_count": 5,
      "outputs": [
        {
          "output_type": "stream",
          "name": "stdout",
          "text": [
            "fatal: not a git repository (or any of the parent directories): .git\n"
          ]
        }
      ]
    }
  ]
}
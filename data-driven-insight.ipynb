{
  "nbformat": 4,
  "nbformat_minor": 0,
  "metadata": {
    "colab": {
      "provenance": [],
      "authorship_tag": "ABX9TyM0QT0tblh/+gDCeL1mp42W",
      "include_colab_link": true
    },
    "kernelspec": {
      "name": "python3",
      "display_name": "Python 3"
    },
    "language_info": {
      "name": "python"
    }
  },
  "cells": [
    {
      "cell_type": "markdown",
      "metadata": {
        "id": "view-in-github",
        "colab_type": "text"
      },
      "source": [
        "<a href=\"https://colab.research.google.com/github/rahfaeu/koru-202502-mini-projeto-data-driven-insight/blob/main/data-driven-insight.ipynb\" target=\"_parent\"><img src=\"https://colab.research.google.com/assets/colab-badge.svg\" alt=\"Open In Colab\"/></a>"
      ]
    },
    {
      "cell_type": "markdown",
      "source": [
        "# Programa Desenvolve\n",
        "## Koru e Grupo Boticário\n",
        "\n",
        "**Trilha**: Engenharia de Dados\n",
        "\n",
        "### Mini Projeto Módulo 01 - Data-Driven Insight"
      ],
      "metadata": {
        "id": "_Xk13mbQzhS8"
      }
    },
    {
      "cell_type": "markdown",
      "source": [
        "# 1. Vinculando o notebook ao Github"
      ],
      "metadata": {
        "id": "YKVVWm4l1KS5"
      }
    },
    {
      "cell_type": "code",
      "source": [
        "!git config --global user.name \"rahfaeu\"\n",
        "!git config --global user.email \"rahfaeu@gmail.com\""
      ],
      "metadata": {
        "id": "G7tm-TOq05zK"
      },
      "execution_count": 12,
      "outputs": []
    },
    {
      "cell_type": "code",
      "execution_count": 13,
      "metadata": {
        "colab": {
          "base_uri": "https://localhost:8080/"
        },
        "id": "z1gxjgJxypFj",
        "outputId": "139abdcc-fa51-43f4-c2f3-12066f88b6e3"
      },
      "outputs": [
        {
          "output_type": "stream",
          "name": "stdout",
          "text": [
            "Cloning into 'koru-202502-mini-projeto-data-driven-insight'...\n",
            "remote: Enumerating objects: 7, done.\u001b[K\n",
            "remote: Counting objects: 100% (7/7), done.\u001b[K\n",
            "remote: Compressing objects: 100% (7/7), done.\u001b[K\n",
            "Receiving objects: 100% (7/7), done.\n",
            "Resolving deltas: 100% (1/1), done.\n",
            "remote: Total 7 (delta 1), reused 0 (delta 0), pack-reused 0 (from 0)\u001b[K\n"
          ]
        }
      ],
      "source": [
        "!git clone https://github.com/rahfaeu/koru-202502-mini-projeto-data-driven-insight"
      ]
    },
    {
      "cell_type": "code",
      "source": [],
      "metadata": {
        "colab": {
          "base_uri": "https://localhost:8080/"
        },
        "id": "HZSWdh_U1o1b",
        "outputId": "867c45e5-19a6-4908-a3a7-0b0d713e7d00"
      },
      "execution_count": 21,
      "outputs": [
        {
          "output_type": "stream",
          "name": "stdout",
          "text": [
            "README.md\n"
          ]
        }
      ]
    }
  ]
}